{
 "cells": [
  {
   "cell_type": "markdown",
   "metadata": {
    "toc": true
   },
   "source": [
    "<h1>Table of Contents<span class=\"tocSkip\"></span></h1>\n",
    "<div class=\"toc\"><ul class=\"toc-item\"><li><span><a href=\"#Imports-and-Data-Loading\" data-toc-modified-id=\"Imports-and-Data-Loading-1\"><span class=\"toc-item-num\">1&nbsp;&nbsp;</span>Imports and Data Loading</a></span><ul class=\"toc-item\"><li><span><a href=\"#DataLoader-class\" data-toc-modified-id=\"DataLoader-class-1.1\"><span class=\"toc-item-num\">1.1&nbsp;&nbsp;</span><a href=\"https://pytorch.org/docs/stable/data.html\" target=\"_blank\">DataLoader class</a></a></span></li></ul></li><li><span><a href=\"#Building-a-Neural--Network\" data-toc-modified-id=\"Building-a-Neural--Network-2\"><span class=\"toc-item-num\">2&nbsp;&nbsp;</span>Building a Neural  Network</a></span><ul class=\"toc-item\"><li><span><a href=\"#Activation-Functions\" data-toc-modified-id=\"Activation-Functions-2.1\"><span class=\"toc-item-num\">2.1&nbsp;&nbsp;</span>Activation Functions</a></span></li></ul></li><li><span><a href=\"#Training-and-Predictions\" data-toc-modified-id=\"Training-and-Predictions-3\"><span class=\"toc-item-num\">3&nbsp;&nbsp;</span>Training and Predictions</a></span><ul class=\"toc-item\"><li><span><a href=\"#Loss-Function\" data-toc-modified-id=\"Loss-Function-3.1\"><span class=\"toc-item-num\">3.1&nbsp;&nbsp;</span>Loss Function</a></span></li><li><span><a href=\"#Optimization\" data-toc-modified-id=\"Optimization-3.2\"><span class=\"toc-item-num\">3.2&nbsp;&nbsp;</span>Optimization</a></span></li><li><span><a href=\"#GPU\" data-toc-modified-id=\"GPU-3.3\"><span class=\"toc-item-num\">3.3&nbsp;&nbsp;</span>GPU</a></span></li><li><span><a href=\"#Training-Loop\" data-toc-modified-id=\"Training-Loop-3.4\"><span class=\"toc-item-num\">3.4&nbsp;&nbsp;</span>Training Loop</a></span></li></ul></li><li><span><a href=\"#Saving-and-Loading-the-Model\" data-toc-modified-id=\"Saving-and-Loading-the-Model-4\"><span class=\"toc-item-num\">4&nbsp;&nbsp;</span>Saving and Loading the Model</a></span><ul class=\"toc-item\"><li><span><a href=\"#Saving-model-weights\" data-toc-modified-id=\"Saving-model-weights-4.1\"><span class=\"toc-item-num\">4.1&nbsp;&nbsp;</span>Saving model weights</a></span></li></ul></li><li><span><a href=\"#References\" data-toc-modified-id=\"References-5\"><span class=\"toc-item-num\">5&nbsp;&nbsp;</span>References</a></span></li><li><span><a href=\"#Next-Steps:\" data-toc-modified-id=\"Next-Steps:-6\"><span class=\"toc-item-num\">6&nbsp;&nbsp;</span>Next Steps:</a></span><ul class=\"toc-item\"><li><span><a href=\"#TODO\" data-toc-modified-id=\"TODO-6.1\"><span class=\"toc-item-num\">6.1&nbsp;&nbsp;</span>TODO</a></span></li><li><span><a href=\"#Feedback\" data-toc-modified-id=\"Feedback-6.2\"><span class=\"toc-item-num\">6.2&nbsp;&nbsp;</span>Feedback</a></span></li><li><span><a href=\"#Convolutional-NN-|-(Computer-Vision)-Cat-Dog\" data-toc-modified-id=\"Convolutional-NN-|-(Computer-Vision)-Cat-Dog-6.3\"><span class=\"toc-item-num\">6.3&nbsp;&nbsp;</span>Convolutional NN | (Computer Vision) Cat Dog</a></span></li><li><span><a href=\"#Recurrent-NN-|-Time-series-or-NLP-Tutorial\" data-toc-modified-id=\"Recurrent-NN-|-Time-series-or-NLP-Tutorial-6.4\"><span class=\"toc-item-num\">6.4&nbsp;&nbsp;</span>Recurrent NN | Time series or NLP Tutorial</a></span></li></ul></li></ul></div>"
   ]
  },
  {
   "cell_type": "markdown",
   "metadata": {},
   "source": [
    "## Imports and Data Loading"
   ]
  },
  {
   "cell_type": "code",
   "execution_count": 1,
   "metadata": {},
   "outputs": [],
   "source": [
    "# import PyTorch\n",
    "import torch\n",
    "\n",
    "# standard DS stack\n",
    "import numpy as np\n",
    "import matplotlib.pyplot as plt\n",
    "import seaborn as sns; sns.set()\n",
    "import pandas as pd\n",
    "# embed static images in the ipynb\n",
    "%matplotlib inline \n",
    "\n",
    "# neural network package\n",
    "import torch.nn as nn \n",
    "import torch.nn.functional as F\n",
    "\n",
    "# computer vision\n",
    "import torchvision\n",
    "from torchvision import transforms\n",
    "from PIL import Image\n",
    "\n",
    "# dataset loading\n",
    "from torch.utils.data import Dataset, DataLoader, ConcatDataset\n",
    "\n",
    "# convenient package for plotting loss functions\n",
    "from livelossplot import PlotLosses\n",
    "\n",
    "import copy\n",
    "# import tqdm"
   ]
  },
  {
   "cell_type": "markdown",
   "metadata": {},
   "source": [
    "As the focus of this tutorial is to understand some foundations about PyTorch and neural networks, we'll be using a small subset of a [dataset](#s0) suitable for a multivariate regression task. \n",
    "\n",
    "Dataset source note: book Comment Volume Dataset Data Set."
   ]
  },
  {
   "cell_type": "code",
   "execution_count": 2,
   "metadata": {},
   "outputs": [
    {
     "name": "stdout",
     "output_type": "stream",
     "text": [
      "Original dataset shapes\n",
      "Training set:(40949, 54), Testing set:(10044, 54)\n",
      "Dataset shapes after PCA and random sampling\n",
      "X_train.shape:(10237, 10), Y_train.shape:(10237,)\n",
      "X_test.shape:(5022, 10), Y_test.shape:(5022,)\n"
     ]
    },
    {
     "data": {
      "text/plain": [
       "[(10237, 10), (10237,), (5022, 10), (5022,)]"
      ]
     },
     "execution_count": 2,
     "metadata": {},
     "output_type": "execute_result"
    }
   ],
   "source": [
    "exec(open(\"datasets/FB_comments/process_data.py\").read())\n",
    "[A.shape for A in [X_train, Y_train, X_test, Y_test]]"
   ]
  },
  {
   "cell_type": "markdown",
   "metadata": {},
   "source": [
    "### [DataLoader class](https://pytorch.org/docs/stable/data.html)\n",
    "\n",
    "Every dataset, no matter whether what it includes, can interact with PyTorch if it satisfies the following abstract Python class:"
   ]
  },
  {
   "cell_type": "markdown",
   "metadata": {},
   "source": [
    "```python\n",
    "class arbitrary_Dataset(object):\n",
    "    def __getitem__(self, idx):\n",
    "        \"\"\" Retrieve an item from the dataset in a (label, tensor) pair.\n",
    "        \n",
    "        Args:\n",
    "            idx: index\n",
    "        \"\"\"\n",
    "        raise NeedsImplementationError\n",
    "        pass\n",
    "        \n",
    "    def __len__(self):\n",
    "        \"\"\" Returns the size of the dataset (len)\"\"\"\n",
    "        raise NeedsImplementationError\n",
    "        pass\n",
    "```"
   ]
  },
  {
   "cell_type": "markdown",
   "metadata": {},
   "source": [
    "This is referred to as a map-style dataset in the docs."
   ]
  },
  {
   "cell_type": "code",
   "execution_count": 3,
   "metadata": {},
   "outputs": [],
   "source": [
    "class FB_Dataset(Dataset): # inherit from torch's Dataset class.\n",
    "    def __init__(self, train):\n",
    "        # data loading\n",
    "        if train == True:\n",
    "            self.X = torch.from_numpy(X_train.astype(np.float32))\n",
    "            self.Y = torch.from_numpy(Y_train.reshape(-1,1).astype(np.float32))\n",
    "        else:\n",
    "            self.X = torch.from_numpy(X_test.astype(np.float32))\n",
    "            self.Y = torch.from_numpy(Y_test.reshape(-1,1).astype(np.float32))\n",
    "\n",
    "        if self.X.shape[0] == self.Y.shape[0]:\n",
    "            self.n_samples = self.X.shape[0]\n",
    "        else:\n",
    "            raise ValueError(\"Shape mismatch\")\n",
    "        \n",
    "    def __getitem__(self, idx):\n",
    "        return self.X[idx], self.Y[idx]\n",
    "    \n",
    "    def __len__(self):\n",
    "        return self.n_samples\n",
    "        # len(dataset)\n",
    "\n",
    "train_set = FB_Dataset(train=True)\n",
    "test_set = FB_Dataset(train=False)"
   ]
  },
  {
   "cell_type": "code",
   "execution_count": 4,
   "metadata": {},
   "outputs": [],
   "source": [
    "BATCH_SIZE = 100\n",
    "\n",
    "train_dl = DataLoader(dataset=train_set, batch_size=BATCH_SIZE, shuffle=True)\n",
    "test_dl = DataLoader(dataset=test_set, batch_size=BATCH_SIZE, shuffle=True)"
   ]
  },
  {
   "cell_type": "markdown",
   "metadata": {},
   "source": [
    "These torch `DataLoader` objects behave just like MNIST ones from the previous tutorial. \n",
    "\n",
    "Just as a reminder, I'll print the tensor shapes of a single batch from the training set. "
   ]
  },
  {
   "cell_type": "code",
   "execution_count": 5,
   "metadata": {},
   "outputs": [
    {
     "name": "stdout",
     "output_type": "stream",
     "text": [
      "torch.Size([100, 10]) torch.Size([100, 1])\n",
      "Shape of single feature: torch.Size([10])\n",
      "Shape of single target: torch.Size([1])\n"
     ]
    }
   ],
   "source": [
    "for data in train_dl:\n",
    "    features, labels = data\n",
    "    print(features.shape, labels.shape)\n",
    "    break\n",
    "print(f\"Shape of single feature: {data[0][0].shape}\") # 1D tensor\n",
    "print(f\"Shape of single target: {data[1][0].shape}\") # 0D tensor (scalar)"
   ]
  },
  {
   "cell_type": "code",
   "execution_count": 6,
   "metadata": {},
   "outputs": [],
   "source": [
    "n_features = torch.flatten(data[0][0]).shape[0]"
   ]
  },
  {
   "cell_type": "markdown",
   "metadata": {},
   "source": [
    "## Building a Neural  Network"
   ]
  },
  {
   "cell_type": "code",
   "execution_count": 7,
   "metadata": {},
   "outputs": [
    {
     "name": "stdout",
     "output_type": "stream",
     "text": [
      "Net(\n",
      "  (fc1): Linear(in_features=10, out_features=7, bias=True)\n",
      "  (fc2): Linear(in_features=7, out_features=3, bias=True)\n",
      "  (fc3): Linear(in_features=3, out_features=1, bias=True)\n",
      ")\n"
     ]
    }
   ],
   "source": [
    "class Net(nn.Module): # class inherits from nn.Module\n",
    "    def __init__(self):\n",
    "        super(Net, self).__init__() # initialize nn.Module\n",
    "        # some fully connected layers w/ linear transformation\n",
    "        \"\"\" nn.Linear(in_features, out_features, bias=True)\n",
    "        Args:\n",
    "            in_features: size of each input sample. For input shape (28, 28), \n",
    "                we would have in_features = 28 * 28 = 784\n",
    "            out_features: size of each output sample.\n",
    "        \"\"\"\n",
    "        self.fc1 = nn.Linear(n_features, 7)\n",
    "        self.fc2 = nn.Linear(7, 3)\n",
    "        self.fc3 = nn.Linear(3, 1)\n",
    "    def forward(self, x): # defines the forward propagation\n",
    "        x = F.relu(self.fc1(x)) # relu activation function\n",
    "        x = F.relu(self.fc2(x)) \n",
    "        x = F.leaky_relu(self.fc3(x))\n",
    "        # Output layer needs a multiclassifying transformation\n",
    "        # log softmax works for this\n",
    "        return x\n",
    "network = Net()\n",
    "print(network)"
   ]
  },
  {
   "cell_type": "markdown",
   "metadata": {},
   "source": [
    "This above network is known as a **feedforward neural network** or **multilayer perceptron (MLP)** ([Goodfellow et al., Deep Learning Book](#s1)). It's called feedforward because there are no **feedback** connections in which the outputs of the model are fed back into previous layers.  \n",
    "\n",
    "When feedforward neural networks are extended to include feedback connections, they are called **recurrent neural netowrks**. \n",
    "\n",
    "The **depth** of a network is defined as its number of layers (including the output layer but excluding input layer), while the **width** of a network is defined to be the maximal number of nodes in a layer. This explains the reasoning behind the name, \"deep learning\".\n",
    "\n",
    "The terminology for the network structure above is typical called the **network architecture**, which includes how many layers the network contains, how the layers are connected to each other, and how many neurons (a.k.a nodes, a.k.a. units) are in each layer."
   ]
  },
  {
   "cell_type": "markdown",
   "metadata": {},
   "source": [
    "### Activation Functions\n",
    "\n",
    "Activation functions are used to compute hidden layer values.\n",
    "\n",
    "Here, we make use of the **rectified linear unit (ReLU)** as the activation function, using `F.relu`. This is the default recommendation for the activation function in modern deep learning. Here's [an article](https://machinelearningmastery.com/rectified-linear-activation-function-for-deep-learning-neural-networks/) about ReLU for your reference. "
   ]
  },
  {
   "cell_type": "markdown",
   "metadata": {},
   "source": [
    "## Training and Predictions"
   ]
  },
  {
   "cell_type": "markdown",
   "metadata": {},
   "source": [
    "### Loss Function "
   ]
  },
  {
   "cell_type": "markdown",
   "metadata": {},
   "source": [
    "Training a network involves passing data through the network, using the **loss function** to ~~determine~~ define a criterion for capturing the similarity or difference between a prediction and an actual target.\n",
    "\n",
    "Below I'll include common loss functions for various supervised learning tasks:\n",
    "\n",
    "**Regression**:\n",
    "- Mean squared error: [`nn.MSELoss`](https://pytorch.org/docs/stable/generated/torch.nn.MSELoss.html#torch.nn.MSELoss)\n",
    "- Mean absolute error, or L1: [`nn.L1Loss`](https://pytorch.org/docs/stable/generated/torch.nn.L1Loss.html#torch.nn.L1Loss)\n",
    "\n",
    "**Binary Classification**:\n",
    "- Binary cross-entropy: [`nn.BCELoss`](https://pytorch.org/docs/stable/generated/torch.nn.BCELoss.html#torch.nn.BCELoss)\n",
    "- Binary cross-entropy with logits: [`nn.BCEWithLogitsLoss`](https://pytorch.org/docs/stable/generated/torch.nn.BCEWithLogitsLoss.html#torch.nn.BCEWithLogitsLoss) \n",
    "\n",
    "**Multi-class Classification**:\n",
    "- Cross entropy : [`nn.CrossEntropyLoss`](https://pytorch.org/docs/stable/generated/torch.nn.CrossEntropyLoss.html#torch.nn.CrossEntropyLoss)\n",
    "- Negative log likelihood: [`nn.NLLLoss`](https://pytorch.org/docs/stable/generated/torch.nn.NLLLoss.html#torch.nn.NLLLoss) "
   ]
  },
  {
   "cell_type": "code",
   "execution_count": 8,
   "metadata": {},
   "outputs": [],
   "source": [
    "loss_fn = nn.MSELoss() # ex. regression\n",
    "# loss_fn = nn.BCELoss() # ex. binary classification\n",
    "# loss_fn = nn.CrossEntropyLoss() # ex. multi-class classification"
   ]
  },
  {
   "cell_type": "markdown",
   "metadata": {},
   "source": [
    "### Optimization\n",
    "\n",
    "The information about the loss function that is gained when we pass data through the network is used to update the weights of the network such that we  minimize the loss function.\n",
    "\n",
    "In order to perform the updates on the neural network, we use an optimizer. "
   ]
  },
  {
   "cell_type": "code",
   "execution_count": 9,
   "metadata": {},
   "outputs": [],
   "source": [
    "# Implement Adam optimizer\n",
    "optimizer = torch.optim.Adam(network.parameters(), lr=0.01)"
   ]
  },
  {
   "cell_type": "markdown",
   "metadata": {},
   "source": [
    "The **learning rate**, `lr`, is often a key parameter that needs to be tweaked in order to get a network to learn properly and efficiently.\n",
    "\n",
    "Adaptive moment estimation (Adam) and stochastic gradient descent (SGD) have been empirically shown to outperform most other optimizers in deep learning networks. \n",
    "\n",
    "I decided to use Adam for this tutorial because it, along with RMSProp and AdaGrad, uses an adaptive learning rate, which adapts its updates to each paramter depending on the importance of individual paramters. "
   ]
  },
  {
   "cell_type": "markdown",
   "metadata": {},
   "source": [
    "### GPU\n",
    "\n",
    "PyTorch, by default, does CPU-based calculations. To take advantage of the GPU, the input tensors and model need to be moved to the GPU explicitly with the `to()` method.\n",
    "\n",
    "`network` is simply an instance of the neural network class written above. "
   ]
  },
  {
   "cell_type": "code",
   "execution_count": 10,
   "metadata": {},
   "outputs": [],
   "source": [
    "# GPU Recipe:\n",
    "if torch.cuda.is_available(): # If PyTorch reports that GPU is available\n",
    "    device = torch.device(\"cuda\") # device = GPU\n",
    "else:\n",
    "    device = torch.device(\"cpu\") # device = CPU\n",
    "\n",
    "network = network.to(device) # Copy model to device"
   ]
  },
  {
   "cell_type": "markdown",
   "metadata": {},
   "source": [
    "### Training Loop\n",
    "\n",
    "First, some terminology. \n",
    "\n",
    "An **epoch** is a single forward and backward pass through ALL of the samples.\n",
    "\n",
    "A **batch**, then, refers to some subset of an the total dataset, where `batch_size` is the number of samples used in one forward and backward pass.\n",
    "\n",
    "The **number of iterations** is the number of passes (forward and backward $\\implies$ 1 pass) needed to complete a single epoch with each pass using `batch_size` number of samples.\n",
    "\n",
    "In other words, suppose that we have 50,000 samples and `batch_size=25`, then there are 50,000/25 == 2000 iterations for 1 epoch.\n",
    "\n",
    "TODO: Explain backpropagation at high level.\n",
    "\n",
    "TODO: Add practical explanation to code. "
   ]
  },
  {
   "cell_type": "code",
   "execution_count": 11,
   "metadata": {},
   "outputs": [],
   "source": [
    "def train(network, loss_fn, train_loader, val_loader,\n",
    "          n_epochs, optimizer=optimizer, device=device):\n",
    "    \"\"\"\n",
    "\n",
    "    Args:\n",
    "        network (nn.Module-like): NN object\n",
    "        loss_fn: loss function\n",
    "        train_loader (DataLoader): PyTorch DataLoader for training set\n",
    "        val_loader (DataLoader): PyTorch DataLoader for validation set\n",
    "        n_epochs (int): number of epochs := # of full passes through data\n",
    "        optimizer (torch.optim optimizer): SGD, Adam, etc.\n",
    "        device (torch.device, optional): GPU selection. OR, uses CPU.\n",
    "    \"\"\"\n",
    "\n",
    "    train_losses = []\n",
    "    val_losses = []\n",
    "    for epoch in range(n_epochs):\n",
    "        train_loss = 0.0\n",
    "        val_loss = 0.0\n",
    "        \n",
    "        # Training\n",
    "        network.train()\n",
    "        for idx, batch in enumerate(train_loader):\n",
    "            optimizer.zero_grad() # clears gradient buffers of all parameters\n",
    "            inputs, targets = batch\n",
    "            # transfer batch data to computation device\n",
    "            [inputs, targets] = [tensor.to(device) for tensor in [inputs, targets]]\n",
    "            output = network(inputs)\n",
    "            loss = loss_fn(output, targets)\n",
    "            # back propagation\n",
    "            loss.backward()\n",
    "            optimizer.step() # update model weights\n",
    "            train_loss += loss.data.item()\n",
    "#         train_loss /= len(train_iterator)\n",
    "        train_losses.append(train_loss)\n",
    "    \n",
    "        if idx % 10 == 0:\n",
    "            print(f\"epoch {epoch+1}/{n_epochs}, batch {idx}.\")\n",
    "        \n",
    "        # Validation \n",
    "        network.eval()        \n",
    "        for batch in val_loader:\n",
    "            inputs, targets = batch\n",
    "            [inputs, targets] = [tensor.to(device) for tensor in batch]\n",
    "            output = network(inputs)\n",
    "            loss = loss_fn(output, targets)\n",
    "            val_loss += loss.data.item()\n",
    "#         val_loss /= len(valid_iterator)\n",
    "        val_losses.append(val_loss)\n",
    "    \n",
    "        print(f\"Epoch: {epoch}, Training Loss: {train_loss:.3f}, \"\n",
    "             +f\"Validation loss: {val_loss:.3f}\")\n",
    "\n",
    "    fig, ax = plt.subplots()\n",
    "    fig.tight_layout()\n",
    "    ax.plot(np.arange(n_epochs), train_losses, '-')\n",
    "    ax.plot(np.arange(n_epochs), val_losses, '-')\n",
    "    ax.legend()\n",
    "    plt.show()\n",
    "#     return train_losses, val_losses\n"
   ]
  },
  {
   "cell_type": "code",
   "execution_count": 12,
   "metadata": {},
   "outputs": [
    {
     "name": "stdout",
     "output_type": "stream",
     "text": [
      "Epoch: 0, Training Loss: 889921.911, Validation loss: 926878.614\n",
      "Epoch: 1, Training Loss: 1124810.404, Validation loss: 722125.621\n",
      "Epoch: 2, Training Loss: 236497.161, Validation loss: 680841.566\n",
      "Epoch: 3, Training Loss: 237740.872, Validation loss: 707724.129\n",
      "Epoch: 4, Training Loss: 213483.938, Validation loss: 686630.758\n",
      "Epoch: 5, Training Loss: 176932.320, Validation loss: 676024.332\n",
      "Epoch: 6, Training Loss: 168194.871, Validation loss: 688733.690\n",
      "Epoch: 7, Training Loss: 163164.987, Validation loss: 671650.364\n",
      "Epoch: 8, Training Loss: 161486.506, Validation loss: 668807.558\n",
      "Epoch: 9, Training Loss: 167017.958, Validation loss: 674736.409\n",
      "Epoch: 10, Training Loss: 163809.086, Validation loss: 670517.963\n",
      "Epoch: 11, Training Loss: 160946.706, Validation loss: 673208.125\n",
      "Epoch: 12, Training Loss: 162136.741, Validation loss: 666734.928\n",
      "Epoch: 13, Training Loss: 165861.708, Validation loss: 676203.259\n",
      "Epoch: 14, Training Loss: 171811.590, Validation loss: 742375.762\n",
      "Epoch: 15, Training Loss: 162868.913, Validation loss: 689061.247\n",
      "Epoch: 16, Training Loss: 170712.084, Validation loss: 664703.984\n",
      "Epoch: 17, Training Loss: 160407.448, Validation loss: 664602.683\n",
      "Epoch: 18, Training Loss: 158379.822, Validation loss: 659693.632\n"
     ]
    },
    {
     "name": "stderr",
     "output_type": "stream",
     "text": [
      "No handles with labels found to put in legend.\n"
     ]
    },
    {
     "name": "stdout",
     "output_type": "stream",
     "text": [
      "Epoch: 19, Training Loss: 160031.745, Validation loss: 659043.807\n"
     ]
    },
    {
     "data": {
      "image/png": "[encoded data removed]",
      "text/plain": [
       "<Figure size 432x288 with 1 Axes>"
      ]
     },
     "metadata": {
      "needs_background": "light"
     },
     "output_type": "display_data"
    }
   ],
   "source": [
    "train(network=network, loss_fn=loss_fn, optimizer=optimizer,\n",
    "      train_loader=train_dl, val_loader=test_dl, n_epochs=20)"
   ]
  },
  {
   "cell_type": "markdown",
   "metadata": {},
   "source": [
    "## Saving and Loading the Model "
   ]
  },
  {
   "cell_type": "markdown",
   "metadata": {},
   "source": [
    "**Saving the whole network**:\n",
    "\n",
    "To save the current state of the model in [pickle](https://docs.python.org/3/library/pickle.html) format, including the architecture and model weights, use `torch.save()`. This can be loaded at a later time with `torch.load()`. For example,\n",
    "```python\n",
    "torch.save(network, \"temp/network\")\n",
    "# ... at a later time\n",
    "network = torch.load(\"temp/network\")\n",
    "```\n",
    "- *Note*, saving the architecture and the weights of a model can be problematic if you decide to change the structure of in the future. A better approach would be...\n",
    "\n",
    "### Saving model weights\n",
    "\n",
    "- Save the model's (here, that's `network`) `state_dict`, a dictionary that can map to the parameters (weights) in each layer of the model."
   ]
  },
  {
   "cell_type": "code",
   "execution_count": 13,
   "metadata": {},
   "outputs": [],
   "source": [
    "system_path = r\"C:/Users/uniqu/Adaptation/\"\n",
    "local_path = \"temp/saved_weights\"\n",
    "path = system_path + local_path\n",
    "torch.save(network.state_dict(), path)"
   ]
  },
  {
   "cell_type": "markdown",
   "metadata": {},
   "source": [
    "Obviously the above file paths will be different for you. I am pleb that uses Windows, so the function throws errors if I don't use the full path instead of the local one. If you need to find out what directory you're in, type `!cd` \n",
    "into a jupyter cell and run it."
   ]
  },
  {
   "cell_type": "code",
   "execution_count": 14,
   "metadata": {},
   "outputs": [
    {
     "data": {
      "text/plain": [
       "OrderedDict([('fc1.weight',\n",
       "              tensor([[-1.0380e-01, -1.0236e-01, -2.1321e-01,  6.1140e-02,  1.3036e-01,\n",
       "                       -1.5332e-01,  4.3006e-01, -9.6006e-03, -3.2798e-01, -8.9341e-01],\n",
       "                      [ 1.7195e-01,  1.9770e-01,  3.2613e-01,  1.4483e-01, -2.3777e-01,\n",
       "                       -5.3883e-01, -2.3455e-01,  4.7106e-02, -1.7805e-01, -4.3461e-01],\n",
       "                      [-1.3407e-01, -1.9913e-01,  2.4303e-02, -1.0618e-01, -2.0531e-01,\n",
       "                       -2.0362e-01,  4.9991e-01, -2.1486e-02, -3.8847e-01, -4.7605e-01],\n",
       "                      [ 6.0997e-02, -2.9213e-01,  4.5105e-01,  2.1478e-01, -7.6541e-02,\n",
       "                       -1.5227e-01,  2.2980e-04,  5.6312e-02,  3.3698e-01, -2.3694e-01],\n",
       "                      [ 6.3868e-02, -4.9727e-02, -2.8943e-02, -1.6753e-01,  3.8951e-01,\n",
       "                        7.4371e-02, -1.8528e-01, -1.8068e-01, -3.7331e-01,  1.2248e-01],\n",
       "                      [-1.0320e-01, -1.9923e-01,  5.2859e-03,  2.1324e-02,  1.6801e-01,\n",
       "                       -5.0826e-02,  1.0252e-01, -2.0811e-01,  3.1458e-01,  3.8854e-01],\n",
       "                      [-1.4294e-01, -9.1683e-02,  6.2457e-02, -1.8836e-02,  1.1216e-01,\n",
       "                        2.8080e-01, -2.0703e-01,  1.1001e-01, -7.4593e-02,  1.2018e-01]])),\n",
       "             ('fc1.bias',\n",
       "              tensor([-0.0277,  0.5148,  0.0615,  0.0517, -0.0161, -0.0027, -0.1961])),\n",
       "             ('fc2.weight',\n",
       "              tensor([[ 0.2156, -0.9360,  0.0142,  0.0123,  0.1734, -0.3722,  0.1943],\n",
       "                      [ 0.0690, -0.3912, -0.0305, -0.4540,  0.2811, -0.1213, -0.0957],\n",
       "                      [-0.0742, -0.2633, -0.2796, -0.2371,  0.0486,  0.0763,  0.0930]])),\n",
       "             ('fc2.bias', tensor([ 0.2800,  0.0932, -0.0669])),\n",
       "             ('fc3.weight', tensor([[-0.0151, -0.0042,  0.0706]])),\n",
       "             ('fc3.bias', tensor([6.8899]))])"
      ]
     },
     "execution_count": 14,
     "metadata": {},
     "output_type": "execute_result"
    }
   ],
   "source": [
    "# ... at a later time\n",
    "network_state_dict = torch.load(path); network_state_dict"
   ]
  },
  {
   "cell_type": "code",
   "execution_count": 15,
   "metadata": {},
   "outputs": [
    {
     "name": "stdout",
     "output_type": "stream",
     "text": [
      "Net(\n",
      "  (fc1): Linear(in_features=10, out_features=7, bias=True)\n",
      "  (fc2): Linear(in_features=7, out_features=3, bias=True)\n",
      "  (fc3): Linear(in_features=3, out_features=1, bias=True)\n",
      ")\n"
     ]
    }
   ],
   "source": [
    "new_net = Net(); print(new_net)"
   ]
  },
  {
   "cell_type": "code",
   "execution_count": 16,
   "metadata": {},
   "outputs": [
    {
     "data": {
      "text/plain": [
       "<All keys matched successfully>"
      ]
     },
     "execution_count": 16,
     "metadata": {},
     "output_type": "execute_result"
    }
   ],
   "source": [
    "new_net.load_state_dict(network_state_dict)"
   ]
  },
  {
   "cell_type": "markdown",
   "metadata": {},
   "source": [
    " One large benefit here is that the you can set the argument `strict = False` in `load_state_dict()` to have the function ignore non-matching keys, which enables you to assign parameters only to layers that *do* exist in the state dictionary and **prevents the load from failing even if the new architecture doesn't match the old one**.\n",
    " \n",
    "This means that you can **load in and use parameters from an entirely different model**. "
   ]
  },
  {
   "cell_type": "markdown",
   "metadata": {},
   "source": [
    "## References\n",
    "- <a id='s0'> </a> UCI Machine Learning Repository. *Facebook Comment Volume Dataset*. https://archive.ics.uci.edu/ml/datasets/Facebook+Comment+Volume+Dataset# \n",
    "- <a id='s1'></a>Goodfellow, I., Bengio, Y., Courville, A. (2016). *Deep learning* (Vol. 1). Cambridge: MIT press.\n",
    "- Lu, Z., Pu, H., Wang, F., Hu, Z., & Wang, L. (2017). *The expressive power of neural networks: A view from the width*. In Advances in neural information processing systems (pp. 6231-6239).\n",
    "- Brownlee, J. (2019). A gentle introduction to the rectified linear unit (relu). *Machine Learning Mastery. https://machinelearningmastery.com/rectified-linear-activation-function-fordeep-learning-neural-networks*.\n",
    "- Inkawhich, M. (2017). [*Saving and Loading Models*](https://pytorch.org/tutorials/beginner/saving_loading_models.html#:~:text=save()%20to%20serialize%20the,the%20dictionary%20locally%20using%20torch) . PyTorch Official Docs."
   ]
  },
  {
   "cell_type": "markdown",
   "metadata": {},
   "source": [
    "\n",
    "----\n",
    "## Next Steps:\n",
    "\n",
    "### TODO\n",
    "- Cross validation\n",
    "- Hyperparameter Optimization\n",
    "- Consider benchmarking against other models (random forest, XGBoost)\n",
    "- Explain how batch size affects the number of computations\n",
    "\n",
    "### Feedback\n",
    "- Have some beginners in DL go through this tutorial and give feedback.\n",
    "\n",
    "### Convolutional NN | (Computer Vision) Cat Dog\n",
    "  - Save a CNN and use it on this dataset. \n",
    "  - Explain fundamental CNN concepts. \n",
    "  - Data from [Kaggle competition](https://www.kaggle.com/c/dogs-vs-cats/overview)\n",
    "  - [jaeboklee](https://www.kaggle.com/jaeboklee/pytorch-cat-vs-dog)\n",
    "\n",
    "### Recurrent NN | Time series or NLP Tutorial"
   ]
  }
 ],
 "metadata": {
  "kernelspec": {
   "display_name": "Python (ds_env)",
   "language": "python",
   "name": "ds_env"
  },
  "language_info": {
   "codemirror_mode": {
    "name": "ipython",
    "version": 3
   },
   "file_extension": ".py",
   "mimetype": "text/x-python",
   "name": "python",
   "nbconvert_exporter": "python",
   "pygments_lexer": "ipython3",
   "version": "3.8.3"
  },
  "toc": {
   "base_numbering": 1,
   "nav_menu": {},
   "number_sections": true,
   "sideBar": true,
   "skip_h1_title": false,
   "title_cell": "Table of Contents",
   "title_sidebar": "Contents",
   "toc_cell": true,
   "toc_position": {},
   "toc_section_display": true,
   "toc_window_display": false
  }
 },
 "nbformat": 4,
 "nbformat_minor": 4
}
