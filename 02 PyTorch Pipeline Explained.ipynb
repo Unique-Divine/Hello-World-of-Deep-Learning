{
 "cells": [
  {
   "cell_type": "markdown",
   "metadata": {
    "toc": true
   },
   "source": [
    "<h1>Table of Contents<span class=\"tocSkip\"></span></h1>\n",
    "<div class=\"toc\"><ul class=\"toc-item\"><li><span><a href=\"#Imports-and-Data-Loading\" data-toc-modified-id=\"Imports-and-Data-Loading-1\"><span class=\"toc-item-num\">1&nbsp;&nbsp;</span>Imports and Data Loading</a></span><ul class=\"toc-item\"><li><span><a href=\"#DataLoader-class\" data-toc-modified-id=\"DataLoader-class-1.1\"><span class=\"toc-item-num\">1.1&nbsp;&nbsp;</span><a href=\"https://pytorch.org/docs/stable/data.html\" target=\"_blank\">DataLoader class</a></a></span></li></ul></li><li><span><a href=\"#Building-a-Neural--Network\" data-toc-modified-id=\"Building-a-Neural--Network-2\"><span class=\"toc-item-num\">2&nbsp;&nbsp;</span>Building a Neural  Network</a></span><ul class=\"toc-item\"><li><span><a href=\"#Activation-Functions\" data-toc-modified-id=\"Activation-Functions-2.1\"><span class=\"toc-item-num\">2.1&nbsp;&nbsp;</span>Activation Functions</a></span></li></ul></li><li><span><a href=\"#Training-and-Predictions\" data-toc-modified-id=\"Training-and-Predictions-3\"><span class=\"toc-item-num\">3&nbsp;&nbsp;</span>Training and Predictions</a></span><ul class=\"toc-item\"><li><span><a href=\"#Loss-Function\" data-toc-modified-id=\"Loss-Function-3.1\"><span class=\"toc-item-num\">3.1&nbsp;&nbsp;</span>Loss Function</a></span></li><li><span><a href=\"#Optimization\" data-toc-modified-id=\"Optimization-3.2\"><span class=\"toc-item-num\">3.2&nbsp;&nbsp;</span>Optimization</a></span></li><li><span><a href=\"#GPU\" data-toc-modified-id=\"GPU-3.3\"><span class=\"toc-item-num\">3.3&nbsp;&nbsp;</span>GPU</a></span></li><li><span><a href=\"#Training-Loop\" data-toc-modified-id=\"Training-Loop-3.4\"><span class=\"toc-item-num\">3.4&nbsp;&nbsp;</span>Training Loop</a></span></li></ul></li><li><span><a href=\"#Saving-and-Loading-the-Model\" data-toc-modified-id=\"Saving-and-Loading-the-Model-4\"><span class=\"toc-item-num\">4&nbsp;&nbsp;</span>Saving and Loading the Model</a></span><ul class=\"toc-item\"><li><span><a href=\"#Saving-model-weights\" data-toc-modified-id=\"Saving-model-weights-4.1\"><span class=\"toc-item-num\">4.1&nbsp;&nbsp;</span>Saving model weights</a></span></li></ul></li><li><span><a href=\"#References\" data-toc-modified-id=\"References-5\"><span class=\"toc-item-num\">5&nbsp;&nbsp;</span>References</a></span></li><li><span><a href=\"#Next-Steps:\" data-toc-modified-id=\"Next-Steps:-6\"><span class=\"toc-item-num\">6&nbsp;&nbsp;</span>Next Steps:</a></span><ul class=\"toc-item\"><li><span><a href=\"#Feedback\" data-toc-modified-id=\"Feedback-6.1\"><span class=\"toc-item-num\">6.1&nbsp;&nbsp;</span>Feedback</a></span></li><li><span><a href=\"#Convolutional-NN-|-(Computer-Vision)-Cat-Dog\" data-toc-modified-id=\"Convolutional-NN-|-(Computer-Vision)-Cat-Dog-6.2\"><span class=\"toc-item-num\">6.2&nbsp;&nbsp;</span>Convolutional NN | (Computer Vision) Cat Dog</a></span></li><li><span><a href=\"#Recurrent-NN-|-Time-series-or-NLP-Tutorial\" data-toc-modified-id=\"Recurrent-NN-|-Time-series-or-NLP-Tutorial-6.3\"><span class=\"toc-item-num\">6.3&nbsp;&nbsp;</span>Recurrent NN | Time series or NLP Tutorial</a></span></li></ul></li></ul></div>"
   ]
  },
  {
   "cell_type": "markdown",
   "metadata": {},
   "source": [
    "## Imports and Data Loading"
   ]
  },
  {
   "cell_type": "code",
   "execution_count": 126,
   "metadata": {},
   "outputs": [],
   "source": [
    "# import PyTorch\n",
    "import torch\n",
    "\n",
    "# standard DS stack\n",
    "import numpy as np\n",
    "import matplotlib.pyplot as plt\n",
    "import seaborn as sns; sns.set()\n",
    "import pandas as pd\n",
    "# embed static images in the ipynb\n",
    "%matplotlib inline \n",
    "\n",
    "# neural network package\n",
    "import torch.nn as nn \n",
    "import torch.nn.functional as F\n",
    "\n",
    "# computer vision\n",
    "import torchvision\n",
    "from torchvision import transforms\n",
    "from PIL import Image\n",
    "\n",
    "# dataset loading\n",
    "from torch.utils.data import Dataset, DataLoader, ConcatDataset\n",
    "\n",
    "# convenient package for plotting loss functions\n",
    "from livelossplot import PlotLosses\n",
    "\n",
    "import copy\n",
    "# import tqdm"
   ]
  },
  {
   "cell_type": "markdown",
   "metadata": {},
   "source": [
    "As the focus of this tutorial is to understand some foundations about PyTorch and neural networks, we'll be using a small subset of a [dataset](#s0) suitable for a multivariate regression task. \n",
    "\n",
    "Dataset source note: book Comment Volume Dataset Data Set."
   ]
  },
  {
   "cell_type": "code",
   "execution_count": 127,
   "metadata": {},
   "outputs": [
    {
     "name": "stdout",
     "output_type": "stream",
     "text": [
      "Original dataset shapes\n",
      "Training set:(40949, 54), Testing set:(10044, 54)\n",
      "Dataset shapes after PCA and random sampling\n",
      "X_train.shape:(10237, 10), Y_train.shape:(10237,)\n",
      "X_test.shape:(5022, 10), Y_test.shape:(5022,)\n"
     ]
    },
    {
     "data": {
      "text/plain": [
       "[(10237, 10), (10237,), (5022, 10), (5022,)]"
      ]
     },
     "execution_count": 127,
     "metadata": {},
     "output_type": "execute_result"
    }
   ],
   "source": [
    "exec(open(\"datasets/FB_comments/process_data.py\").read())\n",
    "[A.shape for A in [X_train, Y_train, X_test, Y_test]]"
   ]
  },
  {
   "cell_type": "markdown",
   "metadata": {},
   "source": [
    "### [DataLoader class](https://pytorch.org/docs/stable/data.html)\n",
    "\n",
    "Every dataset, no matter whether what it includes, can interact with PyTorch if it satisfies the following abstract Python class:"
   ]
  },
  {
   "cell_type": "markdown",
   "metadata": {},
   "source": [
    "```python\n",
    "class arbitrary_Dataset(object):\n",
    "    def __getitem__(self, idx):\n",
    "        \"\"\" Retrieve an item from the dataset in a (label, tensor) pair.\n",
    "        \n",
    "        Args:\n",
    "            idx: index\n",
    "        \"\"\"\n",
    "        raise NeedsImplementationError\n",
    "        pass\n",
    "        \n",
    "    def __len__(self):\n",
    "        \"\"\" Returns the size of the dataset (len)\"\"\"\n",
    "        raise NeedsImplementationError\n",
    "        pass\n",
    "```"
   ]
  },
  {
   "cell_type": "markdown",
   "metadata": {},
   "source": [
    "This is referred to as a map-style dataset in the docs."
   ]
  },
  {
   "cell_type": "code",
   "execution_count": 128,
   "metadata": {},
   "outputs": [],
   "source": [
    "class FB_Dataset(Dataset): # inherit from torch's Dataset class.\n",
    "    def __init__(self, train):\n",
    "        # data loading\n",
    "        if train == True:\n",
    "            self.X = torch.from_numpy(X_train.astype(np.float32))\n",
    "            self.Y = torch.from_numpy(Y_train.reshape(-1,1).astype(np.float32))\n",
    "        else:\n",
    "            self.X = torch.from_numpy(X_test.astype(np.float32))\n",
    "            self.Y = torch.from_numpy(Y_test.reshape(-1,1).astype(np.float32))\n",
    "\n",
    "        if self.X.shape[0] == self.Y.shape[0]:\n",
    "            self.n_samples = self.X.shape[0]\n",
    "        else:\n",
    "            raise ValueError(\"Shape mismatch\")\n",
    "        \n",
    "    def __getitem__(self, idx):\n",
    "        return self.X[idx], self.Y[idx]\n",
    "    \n",
    "    def __len__(self):\n",
    "        return self.n_samples\n",
    "        # len(dataset)\n",
    "\n",
    "train_set = FB_Dataset(train=True)\n",
    "test_set = FB_Dataset(train=False)"
   ]
  },
  {
   "cell_type": "code",
   "execution_count": 129,
   "metadata": {},
   "outputs": [],
   "source": [
    "BATCH_SIZE = 100\n",
    "\n",
    "train_dl = DataLoader(dataset=train_set, batch_size=BATCH_SIZE, shuffle=True)\n",
    "test_dl = DataLoader(dataset=test_set, batch_size=BATCH_SIZE, shuffle=True)"
   ]
  },
  {
   "cell_type": "markdown",
   "metadata": {},
   "source": [
    "These torch `DataLoader` objects behave just like MNIST ones from the previous tutorial. \n",
    "\n",
    "Just as a reminder, I'll print the tensor shapes of a single batch from the training set. "
   ]
  },
  {
   "cell_type": "code",
   "execution_count": 130,
   "metadata": {},
   "outputs": [
    {
     "name": "stdout",
     "output_type": "stream",
     "text": [
      "torch.Size([100, 10]) torch.Size([100, 1])\n",
      "Shape of single feature: torch.Size([10])\n",
      "Shape of single target: torch.Size([1])\n"
     ]
    }
   ],
   "source": [
    "for data in train_dl:\n",
    "    features, labels = data\n",
    "    print(features.shape, labels.shape)\n",
    "    break\n",
    "print(f\"Shape of single feature: {data[0][0].shape}\") # 1D tensor\n",
    "print(f\"Shape of single target: {data[1][0].shape}\") # 0D tensor (scalar)"
   ]
  },
  {
   "cell_type": "code",
   "execution_count": 131,
   "metadata": {},
   "outputs": [],
   "source": [
    "n_features = torch.flatten(data[0][0]).shape[0]"
   ]
  },
  {
   "cell_type": "markdown",
   "metadata": {},
   "source": [
    "## Building a Neural  Network"
   ]
  },
  {
   "cell_type": "code",
   "execution_count": 132,
   "metadata": {},
   "outputs": [
    {
     "name": "stdout",
     "output_type": "stream",
     "text": [
      "Net(\n",
      "  (fc1): Linear(in_features=10, out_features=7, bias=True)\n",
      "  (fc2): Linear(in_features=7, out_features=3, bias=True)\n",
      "  (fc3): Linear(in_features=3, out_features=1, bias=True)\n",
      ")\n"
     ]
    }
   ],
   "source": [
    "class Net(nn.Module): # class inherits from nn.Module\n",
    "    def __init__(self):\n",
    "        super(Net, self).__init__() # initialize nn.Module\n",
    "        # some fully connected layers w/ linear transformation\n",
    "        \"\"\" nn.Linear(in_features, out_features, bias=True)\n",
    "        Args:\n",
    "            in_features: size of each input sample. For input shape (28, 28), \n",
    "                we would have in_features = 28 * 28 = 784\n",
    "            out_features: size of each output sample.\n",
    "        \"\"\"\n",
    "        self.fc1 = nn.Linear(n_features, 7)\n",
    "        self.fc2 = nn.Linear(7, 3)\n",
    "        self.fc3 = nn.Linear(3, 1)\n",
    "    def forward(self, x): # defines the forward propagation\n",
    "        x = F.relu(self.fc1(x)) # relu activation function\n",
    "        x = F.relu(self.fc2(x)) \n",
    "        x = F.leaky_relu(self.fc3(x))\n",
    "        # Output layer needs a multiclassifying transformation\n",
    "        # log softmax works for this\n",
    "        return x\n",
    "network = Net()\n",
    "print(network)"
   ]
  },
  {
   "cell_type": "markdown",
   "metadata": {},
   "source": [
    "This above network is known as a **feedforward neural network** or **multilayer perceptron (MLP)** ([Goodfellow et al., Deep Learning Book](#s1)). It's called feedforward because there are no **feedback** connections in which the outputs of the model are fed back into previous layers.  \n",
    "\n",
    "When feedforward neural networks are extended to include feedback connections, they are called **recurrent neural netowrks**. \n",
    "\n",
    "The **depth** of a network is defined as its number of layers (including the output layer but excluding input layer), while the **width** of a network is defined to be the maximal number of nodes in a layer. This explains the reasoning behind the name, \"deep learning\".\n",
    "\n",
    "The terminology for the network structure above is typical called the **network architecture**, which includes how many layers the network contains, how the layers are connected to each other, and how many neurons (a.k.a nodes, a.k.a. units) are in each layer."
   ]
  },
  {
   "cell_type": "markdown",
   "metadata": {},
   "source": [
    "### Activation Functions\n",
    "\n",
    "Activation functions are used to compute hidden layer values.\n",
    "\n",
    "Here, we make use of the **rectified linear unit (ReLU)** as the activation function, using `F.relu`. This is the default recommendation for the activation function in modern deep learning. Here's [an article](https://machinelearningmastery.com/rectified-linear-activation-function-for-deep-learning-neural-networks/) about ReLU for your reference. "
   ]
  },
  {
   "cell_type": "markdown",
   "metadata": {},
   "source": [
    "## Training and Predictions"
   ]
  },
  {
   "cell_type": "markdown",
   "metadata": {},
   "source": [
    "### Loss Function "
   ]
  },
  {
   "cell_type": "markdown",
   "metadata": {},
   "source": [
    "Training a network involves passing data through the network, using the **loss function** to ~~determine~~ define a criterion for capturing the similarity or difference between a prediction and an actual target.\n",
    "\n",
    "Below I'll include common loss functions for various supervised learning tasks:\n",
    "\n",
    "**Regression**:\n",
    "- Mean squared error: [`nn.MSELoss`](https://pytorch.org/docs/stable/generated/torch.nn.MSELoss.html#torch.nn.MSELoss)\n",
    "- Mean absolute error, or L1: [`nn.L1Loss`](https://pytorch.org/docs/stable/generated/torch.nn.L1Loss.html#torch.nn.L1Loss)\n",
    "\n",
    "**Binary Classification**:\n",
    "- Binary cross-entropy: [`nn.BCELoss`](https://pytorch.org/docs/stable/generated/torch.nn.BCELoss.html#torch.nn.BCELoss)\n",
    "- Binary cross-entropy with logits: [`nn.BCEWithLogitsLoss`](https://pytorch.org/docs/stable/generated/torch.nn.BCEWithLogitsLoss.html#torch.nn.BCEWithLogitsLoss) \n",
    "\n",
    "**Multi-class Classification**:\n",
    "- Cross entropy : [`nn.CrossEntropyLoss`](https://pytorch.org/docs/stable/generated/torch.nn.CrossEntropyLoss.html#torch.nn.CrossEntropyLoss)\n",
    "- Negative log likelihood: [`nn.NLLLoss`](https://pytorch.org/docs/stable/generated/torch.nn.NLLLoss.html#torch.nn.NLLLoss) "
   ]
  },
  {
   "cell_type": "code",
   "execution_count": 133,
   "metadata": {},
   "outputs": [],
   "source": [
    "loss_fn = nn.MSELoss() # ex. regression\n",
    "# loss_fn = nn.BCELoss() # ex. binary classification\n",
    "# loss_fn = nn.CrossEntropyLoss() # ex. multi-class classification"
   ]
  },
  {
   "cell_type": "markdown",
   "metadata": {},
   "source": [
    "### Optimization\n",
    "\n",
    "The information about the loss function that is gained when we pass data through the network is used to update the weights of the network such that we  minimize the loss function.\n",
    "\n",
    "In order to perform the updates on the neural network, we use an optimizer. "
   ]
  },
  {
   "cell_type": "code",
   "execution_count": 134,
   "metadata": {},
   "outputs": [],
   "source": [
    "# Implement Adam optimizer\n",
    "optimizer = torch.optim.Adam(network.parameters(), lr=0.01)"
   ]
  },
  {
   "cell_type": "markdown",
   "metadata": {},
   "source": [
    "The **learning rate**, `lr`, is often a key parameter that needs to be tweaked in order to get a network to learn properly and efficiently.\n",
    "\n",
    "Adaptive moment estimation (Adam) and stochastic gradient descent (SGD) have been empirically shown to outperform most other optimizers in deep learning networks. \n",
    "\n",
    "I decided to use Adam for this tutorial because it, along with RMSProp and AdaGrad, uses an adaptive learning rate, which adapts its updates to each paramter depending on the importance of individual paramters. "
   ]
  },
  {
   "cell_type": "markdown",
   "metadata": {},
   "source": [
    "### GPU\n",
    "\n",
    "PyTorch, by default, does CPU-based calculations. To take advantage of the GPU, the input tensors and model need to be moved to the GPU explicitly with the `to()` method.\n",
    "\n",
    "`network` is simply an instance of the neural network class written above. "
   ]
  },
  {
   "cell_type": "code",
   "execution_count": 135,
   "metadata": {},
   "outputs": [],
   "source": [
    "# GPU Recipe:\n",
    "if torch.cuda.is_available(): # If PyTorch reports that GPU is available\n",
    "    device = torch.device(\"cuda\") # device = GPU\n",
    "else:\n",
    "    device = torch.device(\"cpu\") # device = CPU\n",
    "\n",
    "network = network.to(device) # Copy model to device"
   ]
  },
  {
   "cell_type": "markdown",
   "metadata": {},
   "source": [
    "### Training Loop\n",
    "\n",
    "First, some terminology. \n",
    "\n",
    "An **epoch** is a single forward and backward pass through ALL of the samples.\n",
    "\n",
    "A **batch**, then, refers to some subset of an the total dataset, where `batch_size` is the number of samples used in one forward and backward pass.\n",
    "\n",
    "The **number of iterations** is the number of passes (forward and backward $\\implies$ 1 pass) needed to complete a single epoch with each pass using `batch_size` number of samples.\n",
    "\n",
    "In other words, suppose that we have 50,000 samples and `batch_size=25`, then there are 50,000/25 == 2000 iterations for 1 epoch.\n",
    "\n",
    "TODO: Explain backpropagation at high level.\n",
    "\n",
    "TODO: Add practical explanation to code. "
   ]
  },
  {
   "cell_type": "code",
   "execution_count": 138,
   "metadata": {},
   "outputs": [],
   "source": [
    "def train(network, loss_fn, train_loader, val_loader,\n",
    "          n_epochs, optimizer=optimizer, device=device):\n",
    "    \"\"\"\n",
    "\n",
    "    Args:\n",
    "        network (nn.Module-like): NN object\n",
    "        loss_fn: loss function\n",
    "        train_loader (DataLoader): PyTorch DataLoader for training set\n",
    "        val_loader (DataLoader): PyTorch DataLoader for validation set\n",
    "        n_epochs (int): number of epochs := # of full passes through data\n",
    "        optimizer (torch.optim optimizer): SGD, Adam, etc.\n",
    "        device (torch.device, optional): GPU selection. OR, uses CPU.\n",
    "    \"\"\"\n",
    "\n",
    "    train_losses = []\n",
    "    val_losses = []\n",
    "    for epoch in range(n_epochs):\n",
    "        train_loss = 0.0\n",
    "        val_loss = 0.0\n",
    "        \n",
    "        # Training\n",
    "        network.train()\n",
    "        for idx, batch in enumerate(train_loader):\n",
    "            optimizer.zero_grad() # clears gradient buffers of all parameters\n",
    "            inputs, targets = batch\n",
    "            # transfer batch data to computation device\n",
    "            [inputs, targets] = [tensor.to(device) for tensor in [inputs, targets]]\n",
    "            output = network(inputs)\n",
    "            loss = loss_fn(output, targets)\n",
    "            # back propagation\n",
    "            loss.backward()\n",
    "            optimizer.step() # update model weights\n",
    "            train_loss += loss.data.item()\n",
    "#         train_loss /= len(train_iterator)\n",
    "        train_losses.append(train_loss)\n",
    "    \n",
    "        if idx % 10 == 0:\n",
    "            print(f\"epoch {epoch+1}/{n_epochs}, batch {idx}.\")\n",
    "        \n",
    "        # Validation \n",
    "        network.eval()        \n",
    "        for batch in val_loader:\n",
    "            inputs, targets = batch\n",
    "            [inputs, targets] = [tensor.to(device) for tensor in batch]\n",
    "            output = network(inputs)\n",
    "            loss = loss_fn(output, targets)\n",
    "            val_loss += loss.data.item()\n",
    "#         val_loss /= len(valid_iterator)\n",
    "        val_losses.append(val_loss)\n",
    "    \n",
    "        print(f\"Epoch: {epoch}, Training Loss: {train_loss:.3f}, \"\n",
    "             +f\"Validation loss: {val_loss:.3f}\")\n",
    "\n",
    "    fig, ax = plt.subplots()\n",
    "    fig.tight_layout()\n",
    "    ax.plot(np.arange(n_epochs), train_losses, '-')\n",
    "    ax.plot(np.arange(n_epochs), val_losses, '-')\n",
    "    ax.legend()\n",
    "    plt.show()\n",
    "#     return train_losses, val_losses\n"
   ]
  },
  {
   "cell_type": "code",
   "execution_count": 139,
   "metadata": {},
   "outputs": [
    {
     "name": "stdout",
     "output_type": "stream",
     "text": [
      "Epoch: 0, Training Loss: 12577639.373, Validation loss: 20223174.625\n",
      "Epoch: 1, Training Loss: 9415175.656, Validation loss: 13538537.832\n",
      "Epoch: 2, Training Loss: 7077823.021, Validation loss: 10807081.242\n",
      "Epoch: 3, Training Loss: 5536006.354, Validation loss: 8822129.588\n",
      "Epoch: 4, Training Loss: 4341919.347, Validation loss: 7283220.061\n",
      "Epoch: 5, Training Loss: 3478639.821, Validation loss: 5977165.364\n",
      "Epoch: 6, Training Loss: 2822573.456, Validation loss: 5188755.529\n",
      "Epoch: 7, Training Loss: 2322702.205, Validation loss: 4515668.625\n",
      "Epoch: 8, Training Loss: 1914640.740, Validation loss: 3702508.532\n",
      "Epoch: 9, Training Loss: 1595558.302, Validation loss: 3253636.636\n",
      "Epoch: 10, Training Loss: 1329718.734, Validation loss: 2792027.588\n",
      "Epoch: 11, Training Loss: 1124632.400, Validation loss: 2468771.252\n",
      "Epoch: 12, Training Loss: 956652.973, Validation loss: 2206370.539\n",
      "Epoch: 13, Training Loss: 818599.256, Validation loss: 1940287.702\n",
      "Epoch: 14, Training Loss: 702719.303, Validation loss: 1776300.679\n",
      "Epoch: 15, Training Loss: 609345.506, Validation loss: 1570386.573\n",
      "Epoch: 16, Training Loss: 542307.125, Validation loss: 1445879.850\n",
      "Epoch: 17, Training Loss: 462848.401, Validation loss: 1327718.474\n",
      "Epoch: 18, Training Loss: 410109.267, Validation loss: 1219619.315\n"
     ]
    },
    {
     "name": "stderr",
     "output_type": "stream",
     "text": [
      "No handles with labels found to put in legend.\n"
     ]
    },
    {
     "name": "stdout",
     "output_type": "stream",
     "text": [
      "Epoch: 19, Training Loss: 362973.784, Validation loss: 1112393.630\n"
     ]
    },
    {
     "data": {
      "image/png": "[encoded data removed]",
      "text/plain": [
       "<Figure size 432x288 with 1 Axes>"
      ]
     },
     "metadata": {
      "needs_background": "light"
     },
     "output_type": "display_data"
    }
   ],
   "source": [
    "train(network=network, loss_fn=loss_fn, optimizer=optimizer,\n",
    "      train_loader=train_dl, val_loader=test_dl, n_epochs=20)"
   ]
  },
  {
   "cell_type": "markdown",
   "metadata": {},
   "source": [
    "## Saving and Loading the Model "
   ]
  },
  {
   "cell_type": "markdown",
   "metadata": {},
   "source": [
    "**Saving the whole network**:\n",
    "\n",
    "To save the current state of the model in [pickle](https://docs.python.org/3/library/pickle.html) format, including the architecture and model weights, use `torch.save()`. This can be loaded at a later time with `torch.load()`. For example,\n",
    "```python\n",
    "torch.save(network, \"temp/network\")\n",
    "# ... at a later time\n",
    "network = torch.load(\"temp/network\")\n",
    "```\n",
    "- *Note*, saving the architecture and the weights of a model can be problematic if you decide to change the structure of in the future. A better approach would be...\n",
    "\n",
    "### Saving model weights\n",
    "\n",
    "- Save the model's (here, that's `network`) `state_dict`, a dictionary that can map to the parameters (weights) in each layer of the model."
   ]
  },
  {
   "cell_type": "code",
   "execution_count": 170,
   "metadata": {},
   "outputs": [],
   "source": [
    "system_path = r\"C:/Users/uniqu/Adaptation/\"\n",
    "local_path = \"temp/saved_weights\"\n",
    "path = system_path + local_path\n",
    "torch.save(network.state_dict(), path)"
   ]
  },
  {
   "cell_type": "markdown",
   "metadata": {},
   "source": [
    "Obviously the above file paths will be different for you. I am pleb that uses Windows, so the function throws errors if I don't use the full path instead of the local one. If you need to find out what directory you're in, type `!cd` \n",
    "into a jupyter cell and run it."
   ]
  },
  {
   "cell_type": "code",
   "execution_count": 173,
   "metadata": {},
   "outputs": [
    {
     "data": {
      "text/plain": [
       "OrderedDict([('fc1.weight',\n",
       "              tensor([[-0.0507, -0.2248,  0.1273,  0.0251, -0.1203,  0.1695,  0.2443,  0.2051,\n",
       "                       -0.2454,  0.1476],\n",
       "                      [ 0.3957, -0.0574, -0.1331, -0.1770,  0.3058, -0.1162,  0.0350,  0.0306,\n",
       "                        0.2459,  0.0374],\n",
       "                      [ 0.1601, -0.1376,  0.0851, -0.0617, -0.4338,  0.2878,  0.3386,  0.1304,\n",
       "                        0.0022, -0.2074],\n",
       "                      [ 0.2238,  0.3417, -0.0594, -0.1367,  0.2812, -0.1607, -0.0521, -0.2204,\n",
       "                        0.1757, -0.0055],\n",
       "                      [ 0.0858, -0.0875, -0.1530, -0.0106, -0.1805, -0.1076, -0.2145, -0.2438,\n",
       "                       -0.3457, -0.0484],\n",
       "                      [-0.0563, -0.8017,  0.5809,  0.0538, -0.0139, -0.4515,  0.0967, -0.2560,\n",
       "                        0.0836, -0.3426],\n",
       "                      [ 0.0879,  0.2815,  0.0028, -0.1830,  0.2280, -0.0396,  0.1716,  0.2164,\n",
       "                       -0.1145, -0.0441]])),\n",
       "             ('fc1.bias',\n",
       "              tensor([ 0.0441,  0.3330,  0.1100,  0.0842, -0.3122,  1.1715,  0.1411])),\n",
       "             ('fc2.weight',\n",
       "              tensor([[ 0.0168, -0.1330,  0.1975, -0.1944,  0.1340, -0.5571, -0.4974],\n",
       "                      [-0.1943, -0.1907,  0.1314, -0.0147, -0.0808, -0.7074,  0.4226],\n",
       "                      [-0.0106, -0.0085, -0.1397,  0.2928, -0.2514, -0.0559,  0.1568]])),\n",
       "             ('fc2.bias', tensor([-0.3727, -1.7290,  0.0956])),\n",
       "             ('fc3.weight', tensor([[ 0.4276,  0.0094, -0.0200]])),\n",
       "             ('fc3.bias', tensor([-0.4585]))])"
      ]
     },
     "execution_count": 173,
     "metadata": {},
     "output_type": "execute_result"
    }
   ],
   "source": [
    "# ... at a later time\n",
    "network_state_dict = torch.load(path); network_state_dict"
   ]
  },
  {
   "cell_type": "code",
   "execution_count": 175,
   "metadata": {},
   "outputs": [
    {
     "name": "stdout",
     "output_type": "stream",
     "text": [
      "Net(\n",
      "  (fc1): Linear(in_features=10, out_features=7, bias=True)\n",
      "  (fc2): Linear(in_features=7, out_features=3, bias=True)\n",
      "  (fc3): Linear(in_features=3, out_features=1, bias=True)\n",
      ")\n"
     ]
    }
   ],
   "source": [
    "new_net = Net(); print(new_net)"
   ]
  },
  {
   "cell_type": "code",
   "execution_count": 176,
   "metadata": {},
   "outputs": [
    {
     "data": {
      "text/plain": [
       "<All keys matched successfully>"
      ]
     },
     "execution_count": 176,
     "metadata": {},
     "output_type": "execute_result"
    }
   ],
   "source": [
    "new_net.load_state_dict(network_state_dict)"
   ]
  },
  {
   "cell_type": "markdown",
   "metadata": {},
   "source": [
    " One large benefit here is that the you can set the argument `strict = False` in `load_state_dict()` to have the function ignore non-matching keys, which enables you to assign parameters only to layers that *do* exist in the state dictionary and **prevents the load from failing even if the new architecture doesn't match the old one**.\n",
    " \n",
    "This means that you can **load in and use parameters from an entirely different model**. "
   ]
  },
  {
   "cell_type": "markdown",
   "metadata": {},
   "source": [
    "## References\n",
    "- <a id='s0'> </a> UCI Machine Learning Repository. *Facebook Comment Volume Dataset*. https://archive.ics.uci.edu/ml/datasets/Facebook+Comment+Volume+Dataset# \n",
    "- <a id='s1'></a>Goodfellow, I., Bengio, Y., Courville, A. (2016). *Deep learning* (Vol. 1). Cambridge: MIT press.\n",
    "- Lu, Z., Pu, H., Wang, F., Hu, Z., & Wang, L. (2017). *The expressive power of neural networks: A view from the width*. In Advances in neural information processing systems (pp. 6231-6239).\n",
    "- Brownlee, J. (2019). A gentle introduction to the rectified linear unit (relu). *Machine Learning Mastery. https://machinelearningmastery.com/rectified-linear-activation-function-fordeep-learning-neural-networks*.\n",
    "- Inkawhich, M. (2017). [*Saving and Loading Models*](https://pytorch.org/tutorials/beginner/saving_loading_models.html#:~:text=save()%20to%20serialize%20the,the%20dictionary%20locally%20using%20torch) . PyTorch Official Docs."
   ]
  },
  {
   "cell_type": "markdown",
   "metadata": {},
   "source": [
    "\n",
    "----\n",
    "## Next Steps:\n",
    "\n",
    "### Feedback\n",
    "- Have some beginners in DL go through this tutorial and give feedback.\n",
    "\n",
    "### Convolutional NN | (Computer Vision) Cat Dog\n",
    "  - Save a CNN and use it on this dataset. \n",
    "  - Explain fundamental CNN concepts. \n",
    "  - Data from [Kaggle competition](https://www.kaggle.com/c/dogs-vs-cats/overview)\n",
    "  - [jaeboklee](https://www.kaggle.com/jaeboklee/pytorch-cat-vs-dog)\n",
    "\n",
    "### Recurrent NN | Time series or NLP Tutorial"
   ]
  }
 ],
 "metadata": {
  "kernelspec": {
   "display_name": "Python (ds_env)",
   "language": "python",
   "name": "ds_env"
  },
  "language_info": {
   "codemirror_mode": {
    "name": "ipython",
    "version": 3
   },
   "file_extension": ".py",
   "mimetype": "text/x-python",
   "name": "python",
   "nbconvert_exporter": "python",
   "pygments_lexer": "ipython3",
   "version": "3.8.3"
  },
  "toc": {
   "base_numbering": 1,
   "nav_menu": {},
   "number_sections": true,
   "sideBar": true,
   "skip_h1_title": false,
   "title_cell": "Table of Contents",
   "title_sidebar": "Contents",
   "toc_cell": true,
   "toc_position": {},
   "toc_section_display": true,
   "toc_window_display": false
  }
 },
 "nbformat": 4,
 "nbformat_minor": 4
}
